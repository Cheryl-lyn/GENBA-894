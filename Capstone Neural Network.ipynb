{
 "cells": [
  {
   "cell_type": "code",
   "execution_count": 1,
   "metadata": {
    "collapsed": false
   },
   "outputs": [
    {
     "name": "stderr",
     "output_type": "stream",
     "text": [
      "C:\\Users\\Cheryl-lyn\\Anaconda2\\lib\\site-packages\\sklearn\\cross_validation.py:44: DeprecationWarning: This module was deprecated in version 0.18 in favor of the model_selection module into which all the refactored classes and functions are moved. Also note that the interface of the new CV iterators are different from that of this module. This module will be removed in 0.20.\n",
      "  \"This module will be removed in 0.20.\", DeprecationWarning)\n"
     ]
    }
   ],
   "source": [
    "#Import packages\n",
    "import pandas as pd\n",
    "import numpy as np\n",
    "import seaborn as sns\n",
    "import matplotlib.pyplot as plt\n",
    "%matplotlib inline\n",
    "\n",
    "#import decisiontreeclassifier\n",
    "from sklearn import tree\n",
    "from sklearn.tree import DecisionTreeClassifier\n",
    "#import logisticregression classifier\n",
    "from sklearn.linear_model import LogisticRegression\n",
    "import statsmodels.api as sm\n",
    "#import knn classifier\n",
    "from sklearn.neighbors import KNeighborsClassifier\n",
    "\n",
    "#for validating your classification model\n",
    "from sklearn.cross_validation import train_test_split\n",
    "from sklearn.cross_validation import cross_val_score\n",
    "from sklearn import metrics\n",
    "from sklearn.metrics import roc_curve, auc\n",
    "\n",
    "# feature selection\n",
    "from sklearn.feature_selection import RFE\n",
    "from sklearn.ensemble import ExtraTreesClassifier\n",
    "from sklearn.feature_selection import SelectKBest\n",
    "from sklearn.feature_selection import chi2"
   ]
  },
  {
   "cell_type": "code",
   "execution_count": 2,
   "metadata": {
    "collapsed": false
   },
   "outputs": [
    {
     "data": {
      "text/html": [
       "<div>\n",
       "<table border=\"1\" class=\"dataframe\">\n",
       "  <thead>\n",
       "    <tr style=\"text-align: right;\">\n",
       "      <th></th>\n",
       "      <th>ISPREMIER</th>\n",
       "      <th>AGE21PLUSINDICATOR</th>\n",
       "      <th>AGE18TO21INDICATOR</th>\n",
       "      <th>AGE13TO18INDICATOR</th>\n",
       "      <th>GENDERCODE</th>\n",
       "      <th>BIRTHDATE</th>\n",
       "      <th>AMCSTUBSLOYALTYEMAILOFFEROPTININDICATOR</th>\n",
       "      <th>AMCSTUBSREWARDSEMAILOPTININDICATOR</th>\n",
       "      <th>AMCSTUBSREWARDSMOBILEOPTININDICATOR</th>\n",
       "      <th>AMCSTUBSREWARDSSMSOPTININDICATOR</th>\n",
       "      <th>...</th>\n",
       "      <th>ONLINEFEESWAIVEDAMOUNT</th>\n",
       "      <th>ESTIMATEDINCOMERANGE</th>\n",
       "      <th>ESTIMATEDHOMEMARKETVALUERANGE</th>\n",
       "      <th>CHILDRENPRESENCE</th>\n",
       "      <th>HASFREQUENTVISITTHEATRENUMBER</th>\n",
       "      <th>TICKETQTYSUM</th>\n",
       "      <th>TICKETBALANCEDUESUM</th>\n",
       "      <th>CONCQTYSUM</th>\n",
       "      <th>CONCLOYDISCOUNTAMTSUM</th>\n",
       "      <th>CONCBALANCEDUESUM</th>\n",
       "    </tr>\n",
       "  </thead>\n",
       "  <tbody>\n",
       "    <tr>\n",
       "      <th>0</th>\n",
       "      <td>1</td>\n",
       "      <td>1</td>\n",
       "      <td>0</td>\n",
       "      <td>0</td>\n",
       "      <td>3</td>\n",
       "      <td>1/13/1976</td>\n",
       "      <td>0</td>\n",
       "      <td>0</td>\n",
       "      <td>0</td>\n",
       "      <td>0</td>\n",
       "      <td>...</td>\n",
       "      <td>61.25</td>\n",
       "      <td>0</td>\n",
       "      <td>0</td>\n",
       "      <td>3</td>\n",
       "      <td>1</td>\n",
       "      <td>51</td>\n",
       "      <td>969.09</td>\n",
       "      <td>7</td>\n",
       "      <td>0.0</td>\n",
       "      <td>41.71</td>\n",
       "    </tr>\n",
       "    <tr>\n",
       "      <th>1</th>\n",
       "      <td>1</td>\n",
       "      <td>1</td>\n",
       "      <td>0</td>\n",
       "      <td>0</td>\n",
       "      <td>1</td>\n",
       "      <td>7/6/1983</td>\n",
       "      <td>0</td>\n",
       "      <td>0</td>\n",
       "      <td>1</td>\n",
       "      <td>0</td>\n",
       "      <td>...</td>\n",
       "      <td>123.00</td>\n",
       "      <td>3</td>\n",
       "      <td>13</td>\n",
       "      <td>0</td>\n",
       "      <td>0</td>\n",
       "      <td>40</td>\n",
       "      <td>842.00</td>\n",
       "      <td>1</td>\n",
       "      <td>-1.0</td>\n",
       "      <td>7.49</td>\n",
       "    </tr>\n",
       "    <tr>\n",
       "      <th>2</th>\n",
       "      <td>1</td>\n",
       "      <td>1</td>\n",
       "      <td>0</td>\n",
       "      <td>0</td>\n",
       "      <td>3</td>\n",
       "      <td>10/20/1970</td>\n",
       "      <td>0</td>\n",
       "      <td>0</td>\n",
       "      <td>0</td>\n",
       "      <td>0</td>\n",
       "      <td>...</td>\n",
       "      <td>182.50</td>\n",
       "      <td>0</td>\n",
       "      <td>0</td>\n",
       "      <td>3</td>\n",
       "      <td>1</td>\n",
       "      <td>49</td>\n",
       "      <td>675.66</td>\n",
       "      <td>4</td>\n",
       "      <td>0.0</td>\n",
       "      <td>25.42</td>\n",
       "    </tr>\n",
       "    <tr>\n",
       "      <th>3</th>\n",
       "      <td>0</td>\n",
       "      <td>1</td>\n",
       "      <td>0</td>\n",
       "      <td>0</td>\n",
       "      <td>0</td>\n",
       "      <td>7/10/1967</td>\n",
       "      <td>0</td>\n",
       "      <td>1</td>\n",
       "      <td>1</td>\n",
       "      <td>0</td>\n",
       "      <td>...</td>\n",
       "      <td>47.75</td>\n",
       "      <td>9</td>\n",
       "      <td>13</td>\n",
       "      <td>1</td>\n",
       "      <td>1</td>\n",
       "      <td>38</td>\n",
       "      <td>616.61</td>\n",
       "      <td>72</td>\n",
       "      <td>-7.0</td>\n",
       "      <td>474.14</td>\n",
       "    </tr>\n",
       "    <tr>\n",
       "      <th>4</th>\n",
       "      <td>1</td>\n",
       "      <td>1</td>\n",
       "      <td>0</td>\n",
       "      <td>0</td>\n",
       "      <td>1</td>\n",
       "      <td>8/1/1994</td>\n",
       "      <td>1</td>\n",
       "      <td>1</td>\n",
       "      <td>1</td>\n",
       "      <td>0</td>\n",
       "      <td>...</td>\n",
       "      <td>45.00</td>\n",
       "      <td>8</td>\n",
       "      <td>6</td>\n",
       "      <td>3</td>\n",
       "      <td>1</td>\n",
       "      <td>47</td>\n",
       "      <td>607.53</td>\n",
       "      <td>10</td>\n",
       "      <td>-2.0</td>\n",
       "      <td>63.60</td>\n",
       "    </tr>\n",
       "  </tbody>\n",
       "</table>\n",
       "<p>5 rows × 24 columns</p>\n",
       "</div>"
      ],
      "text/plain": [
       "   ISPREMIER  AGE21PLUSINDICATOR  AGE18TO21INDICATOR  AGE13TO18INDICATOR  \\\n",
       "0          1                   1                   0                   0   \n",
       "1          1                   1                   0                   0   \n",
       "2          1                   1                   0                   0   \n",
       "3          0                   1                   0                   0   \n",
       "4          1                   1                   0                   0   \n",
       "\n",
       "   GENDERCODE   BIRTHDATE  AMCSTUBSLOYALTYEMAILOFFEROPTININDICATOR  \\\n",
       "0           3   1/13/1976                                        0   \n",
       "1           1    7/6/1983                                        0   \n",
       "2           3  10/20/1970                                        0   \n",
       "3           0   7/10/1967                                        0   \n",
       "4           1    8/1/1994                                        1   \n",
       "\n",
       "   AMCSTUBSREWARDSEMAILOPTININDICATOR  AMCSTUBSREWARDSMOBILEOPTININDICATOR  \\\n",
       "0                                   0                                    0   \n",
       "1                                   0                                    1   \n",
       "2                                   0                                    0   \n",
       "3                                   1                                    1   \n",
       "4                                   1                                    1   \n",
       "\n",
       "   AMCSTUBSREWARDSSMSOPTININDICATOR        ...          \\\n",
       "0                                 0        ...           \n",
       "1                                 0        ...           \n",
       "2                                 0        ...           \n",
       "3                                 0        ...           \n",
       "4                                 0        ...           \n",
       "\n",
       "   ONLINEFEESWAIVEDAMOUNT  ESTIMATEDINCOMERANGE  \\\n",
       "0                   61.25                     0   \n",
       "1                  123.00                     3   \n",
       "2                  182.50                     0   \n",
       "3                   47.75                     9   \n",
       "4                   45.00                     8   \n",
       "\n",
       "   ESTIMATEDHOMEMARKETVALUERANGE  CHILDRENPRESENCE  \\\n",
       "0                              0                 3   \n",
       "1                             13                 0   \n",
       "2                              0                 3   \n",
       "3                             13                 1   \n",
       "4                              6                 3   \n",
       "\n",
       "   HASFREQUENTVISITTHEATRENUMBER  TICKETQTYSUM  TICKETBALANCEDUESUM  \\\n",
       "0                              1            51               969.09   \n",
       "1                              0            40               842.00   \n",
       "2                              1            49               675.66   \n",
       "3                              1            38               616.61   \n",
       "4                              1            47               607.53   \n",
       "\n",
       "   CONCQTYSUM  CONCLOYDISCOUNTAMTSUM  CONCBALANCEDUESUM  \n",
       "0           7                    0.0              41.71  \n",
       "1           1                   -1.0               7.49  \n",
       "2           4                    0.0              25.42  \n",
       "3          72                   -7.0             474.14  \n",
       "4          10                   -2.0              63.60  \n",
       "\n",
       "[5 rows x 24 columns]"
      ]
     },
     "execution_count": 2,
     "metadata": {},
     "output_type": "execute_result"
    }
   ],
   "source": [
    "#read file\n",
    "amc = pd.read_csv(\"AMCTheater/AMCSampleData_InsiderPremier.csv\")\n",
    "amc.head()"
   ]
  },
  {
   "cell_type": "code",
   "execution_count": 3,
   "metadata": {
    "collapsed": false
   },
   "outputs": [
    {
     "data": {
      "text/html": [
       "<div>\n",
       "<table border=\"1\" class=\"dataframe\">\n",
       "  <thead>\n",
       "    <tr style=\"text-align: right;\">\n",
       "      <th></th>\n",
       "      <th>ISPREMIER</th>\n",
       "      <th>AGE21PLUSINDICATOR</th>\n",
       "      <th>AGE18TO21INDICATOR</th>\n",
       "      <th>AGE13TO18INDICATOR</th>\n",
       "      <th>GENDERCODE</th>\n",
       "      <th>AMCSTUBSLOYALTYEMAILOFFEROPTININDICATOR</th>\n",
       "      <th>AMCSTUBSREWARDSEMAILOPTININDICATOR</th>\n",
       "      <th>AMCSTUBSREWARDSMOBILEOPTININDICATOR</th>\n",
       "      <th>AMCSTUBSREWARDSSMSOPTININDICATOR</th>\n",
       "      <th>AMCSTUBSTHEATREMOBILEOFFEROPTININDICATOR</th>\n",
       "      <th>...</th>\n",
       "      <th>ONLINEFEESWAIVEDAMOUNT</th>\n",
       "      <th>ESTIMATEDINCOMERANGE</th>\n",
       "      <th>ESTIMATEDHOMEMARKETVALUERANGE</th>\n",
       "      <th>CHILDRENPRESENCE</th>\n",
       "      <th>HASFREQUENTVISITTHEATRENUMBER</th>\n",
       "      <th>TICKETQTYSUM</th>\n",
       "      <th>TICKETBALANCEDUESUM</th>\n",
       "      <th>CONCQTYSUM</th>\n",
       "      <th>CONCLOYDISCOUNTAMTSUM</th>\n",
       "      <th>CONCBALANCEDUESUM</th>\n",
       "    </tr>\n",
       "  </thead>\n",
       "  <tbody>\n",
       "    <tr>\n",
       "      <th>0</th>\n",
       "      <td>1</td>\n",
       "      <td>1</td>\n",
       "      <td>0</td>\n",
       "      <td>0</td>\n",
       "      <td>3</td>\n",
       "      <td>0</td>\n",
       "      <td>0</td>\n",
       "      <td>0</td>\n",
       "      <td>0</td>\n",
       "      <td>0</td>\n",
       "      <td>...</td>\n",
       "      <td>61.25</td>\n",
       "      <td>0</td>\n",
       "      <td>0</td>\n",
       "      <td>3</td>\n",
       "      <td>1</td>\n",
       "      <td>51</td>\n",
       "      <td>969.09</td>\n",
       "      <td>7</td>\n",
       "      <td>0.0</td>\n",
       "      <td>41.71</td>\n",
       "    </tr>\n",
       "    <tr>\n",
       "      <th>1</th>\n",
       "      <td>1</td>\n",
       "      <td>1</td>\n",
       "      <td>0</td>\n",
       "      <td>0</td>\n",
       "      <td>1</td>\n",
       "      <td>0</td>\n",
       "      <td>0</td>\n",
       "      <td>1</td>\n",
       "      <td>0</td>\n",
       "      <td>1</td>\n",
       "      <td>...</td>\n",
       "      <td>123.00</td>\n",
       "      <td>3</td>\n",
       "      <td>13</td>\n",
       "      <td>0</td>\n",
       "      <td>0</td>\n",
       "      <td>40</td>\n",
       "      <td>842.00</td>\n",
       "      <td>1</td>\n",
       "      <td>-1.0</td>\n",
       "      <td>7.49</td>\n",
       "    </tr>\n",
       "    <tr>\n",
       "      <th>2</th>\n",
       "      <td>1</td>\n",
       "      <td>1</td>\n",
       "      <td>0</td>\n",
       "      <td>0</td>\n",
       "      <td>3</td>\n",
       "      <td>0</td>\n",
       "      <td>0</td>\n",
       "      <td>0</td>\n",
       "      <td>0</td>\n",
       "      <td>0</td>\n",
       "      <td>...</td>\n",
       "      <td>182.50</td>\n",
       "      <td>0</td>\n",
       "      <td>0</td>\n",
       "      <td>3</td>\n",
       "      <td>1</td>\n",
       "      <td>49</td>\n",
       "      <td>675.66</td>\n",
       "      <td>4</td>\n",
       "      <td>0.0</td>\n",
       "      <td>25.42</td>\n",
       "    </tr>\n",
       "    <tr>\n",
       "      <th>3</th>\n",
       "      <td>0</td>\n",
       "      <td>1</td>\n",
       "      <td>0</td>\n",
       "      <td>0</td>\n",
       "      <td>0</td>\n",
       "      <td>0</td>\n",
       "      <td>1</td>\n",
       "      <td>1</td>\n",
       "      <td>0</td>\n",
       "      <td>0</td>\n",
       "      <td>...</td>\n",
       "      <td>47.75</td>\n",
       "      <td>9</td>\n",
       "      <td>13</td>\n",
       "      <td>1</td>\n",
       "      <td>1</td>\n",
       "      <td>38</td>\n",
       "      <td>616.61</td>\n",
       "      <td>72</td>\n",
       "      <td>-7.0</td>\n",
       "      <td>474.14</td>\n",
       "    </tr>\n",
       "    <tr>\n",
       "      <th>4</th>\n",
       "      <td>1</td>\n",
       "      <td>1</td>\n",
       "      <td>0</td>\n",
       "      <td>0</td>\n",
       "      <td>1</td>\n",
       "      <td>1</td>\n",
       "      <td>1</td>\n",
       "      <td>1</td>\n",
       "      <td>0</td>\n",
       "      <td>1</td>\n",
       "      <td>...</td>\n",
       "      <td>45.00</td>\n",
       "      <td>8</td>\n",
       "      <td>6</td>\n",
       "      <td>3</td>\n",
       "      <td>1</td>\n",
       "      <td>47</td>\n",
       "      <td>607.53</td>\n",
       "      <td>10</td>\n",
       "      <td>-2.0</td>\n",
       "      <td>63.60</td>\n",
       "    </tr>\n",
       "  </tbody>\n",
       "</table>\n",
       "<p>5 rows × 23 columns</p>\n",
       "</div>"
      ],
      "text/plain": [
       "   ISPREMIER  AGE21PLUSINDICATOR  AGE18TO21INDICATOR  AGE13TO18INDICATOR  \\\n",
       "0          1                   1                   0                   0   \n",
       "1          1                   1                   0                   0   \n",
       "2          1                   1                   0                   0   \n",
       "3          0                   1                   0                   0   \n",
       "4          1                   1                   0                   0   \n",
       "\n",
       "   GENDERCODE  AMCSTUBSLOYALTYEMAILOFFEROPTININDICATOR  \\\n",
       "0           3                                        0   \n",
       "1           1                                        0   \n",
       "2           3                                        0   \n",
       "3           0                                        0   \n",
       "4           1                                        1   \n",
       "\n",
       "   AMCSTUBSREWARDSEMAILOPTININDICATOR  AMCSTUBSREWARDSMOBILEOPTININDICATOR  \\\n",
       "0                                   0                                    0   \n",
       "1                                   0                                    1   \n",
       "2                                   0                                    0   \n",
       "3                                   1                                    1   \n",
       "4                                   1                                    1   \n",
       "\n",
       "   AMCSTUBSREWARDSSMSOPTININDICATOR  AMCSTUBSTHEATREMOBILEOFFEROPTININDICATOR  \\\n",
       "0                                 0                                         0   \n",
       "1                                 0                                         1   \n",
       "2                                 0                                         0   \n",
       "3                                 0                                         0   \n",
       "4                                 0                                         1   \n",
       "\n",
       "         ...          ONLINEFEESWAIVEDAMOUNT  ESTIMATEDINCOMERANGE  \\\n",
       "0        ...                           61.25                     0   \n",
       "1        ...                          123.00                     3   \n",
       "2        ...                          182.50                     0   \n",
       "3        ...                           47.75                     9   \n",
       "4        ...                           45.00                     8   \n",
       "\n",
       "   ESTIMATEDHOMEMARKETVALUERANGE  CHILDRENPRESENCE  \\\n",
       "0                              0                 3   \n",
       "1                             13                 0   \n",
       "2                              0                 3   \n",
       "3                             13                 1   \n",
       "4                              6                 3   \n",
       "\n",
       "   HASFREQUENTVISITTHEATRENUMBER  TICKETQTYSUM  TICKETBALANCEDUESUM  \\\n",
       "0                              1            51               969.09   \n",
       "1                              0            40               842.00   \n",
       "2                              1            49               675.66   \n",
       "3                              1            38               616.61   \n",
       "4                              1            47               607.53   \n",
       "\n",
       "   CONCQTYSUM  CONCLOYDISCOUNTAMTSUM  CONCBALANCEDUESUM  \n",
       "0           7                    0.0              41.71  \n",
       "1           1                   -1.0               7.49  \n",
       "2           4                    0.0              25.42  \n",
       "3          72                   -7.0             474.14  \n",
       "4          10                   -2.0              63.60  \n",
       "\n",
       "[5 rows x 23 columns]"
      ]
     },
     "execution_count": 3,
     "metadata": {},
     "output_type": "execute_result"
    }
   ],
   "source": [
    "#drop irrelevant column \"BIRTHDATE\"\n",
    "amc = amc.drop(['BIRTHDATE'], axis=1)\n",
    "amc.head()"
   ]
  },
  {
   "cell_type": "code",
   "execution_count": 4,
   "metadata": {
    "collapsed": false
   },
   "outputs": [
    {
     "data": {
      "text/html": [
       "<div>\n",
       "<table border=\"1\" class=\"dataframe\">\n",
       "  <thead>\n",
       "    <tr style=\"text-align: right;\">\n",
       "      <th></th>\n",
       "      <th>count</th>\n",
       "      <th>mean</th>\n",
       "      <th>std</th>\n",
       "      <th>min</th>\n",
       "      <th>25%</th>\n",
       "      <th>50%</th>\n",
       "      <th>75%</th>\n",
       "      <th>max</th>\n",
       "    </tr>\n",
       "  </thead>\n",
       "  <tbody>\n",
       "    <tr>\n",
       "      <th>ISPREMIER</th>\n",
       "      <td>47168.0</td>\n",
       "      <td>0.115354</td>\n",
       "      <td>0.319452</td>\n",
       "      <td>0.00</td>\n",
       "      <td>0.0</td>\n",
       "      <td>0.00</td>\n",
       "      <td>0.00</td>\n",
       "      <td>1.00</td>\n",
       "    </tr>\n",
       "    <tr>\n",
       "      <th>AGE21PLUSINDICATOR</th>\n",
       "      <td>47168.0</td>\n",
       "      <td>0.892660</td>\n",
       "      <td>0.309548</td>\n",
       "      <td>0.00</td>\n",
       "      <td>1.0</td>\n",
       "      <td>1.00</td>\n",
       "      <td>1.00</td>\n",
       "      <td>1.00</td>\n",
       "    </tr>\n",
       "    <tr>\n",
       "      <th>AGE18TO21INDICATOR</th>\n",
       "      <td>47168.0</td>\n",
       "      <td>0.063920</td>\n",
       "      <td>0.244614</td>\n",
       "      <td>0.00</td>\n",
       "      <td>0.0</td>\n",
       "      <td>0.00</td>\n",
       "      <td>0.00</td>\n",
       "      <td>1.00</td>\n",
       "    </tr>\n",
       "    <tr>\n",
       "      <th>AGE13TO18INDICATOR</th>\n",
       "      <td>47168.0</td>\n",
       "      <td>0.038543</td>\n",
       "      <td>0.192505</td>\n",
       "      <td>0.00</td>\n",
       "      <td>0.0</td>\n",
       "      <td>0.00</td>\n",
       "      <td>0.00</td>\n",
       "      <td>1.00</td>\n",
       "    </tr>\n",
       "    <tr>\n",
       "      <th>GENDERCODE</th>\n",
       "      <td>47168.0</td>\n",
       "      <td>2.460778</td>\n",
       "      <td>1.081705</td>\n",
       "      <td>0.00</td>\n",
       "      <td>3.0</td>\n",
       "      <td>3.00</td>\n",
       "      <td>3.00</td>\n",
       "      <td>3.00</td>\n",
       "    </tr>\n",
       "    <tr>\n",
       "      <th>AMCSTUBSLOYALTYEMAILOFFEROPTININDICATOR</th>\n",
       "      <td>47168.0</td>\n",
       "      <td>0.816761</td>\n",
       "      <td>0.386866</td>\n",
       "      <td>0.00</td>\n",
       "      <td>1.0</td>\n",
       "      <td>1.00</td>\n",
       "      <td>1.00</td>\n",
       "      <td>1.00</td>\n",
       "    </tr>\n",
       "    <tr>\n",
       "      <th>AMCSTUBSREWARDSEMAILOPTININDICATOR</th>\n",
       "      <td>47168.0</td>\n",
       "      <td>0.859078</td>\n",
       "      <td>0.347945</td>\n",
       "      <td>0.00</td>\n",
       "      <td>1.0</td>\n",
       "      <td>1.00</td>\n",
       "      <td>1.00</td>\n",
       "      <td>1.00</td>\n",
       "    </tr>\n",
       "    <tr>\n",
       "      <th>AMCSTUBSREWARDSMOBILEOPTININDICATOR</th>\n",
       "      <td>47168.0</td>\n",
       "      <td>0.503053</td>\n",
       "      <td>0.499996</td>\n",
       "      <td>0.00</td>\n",
       "      <td>0.0</td>\n",
       "      <td>1.00</td>\n",
       "      <td>1.00</td>\n",
       "      <td>1.00</td>\n",
       "    </tr>\n",
       "    <tr>\n",
       "      <th>AMCSTUBSREWARDSSMSOPTININDICATOR</th>\n",
       "      <td>47168.0</td>\n",
       "      <td>0.000042</td>\n",
       "      <td>0.006512</td>\n",
       "      <td>0.00</td>\n",
       "      <td>0.0</td>\n",
       "      <td>0.00</td>\n",
       "      <td>0.00</td>\n",
       "      <td>1.00</td>\n",
       "    </tr>\n",
       "    <tr>\n",
       "      <th>AMCSTUBSTHEATREMOBILEOFFEROPTININDICATOR</th>\n",
       "      <td>47168.0</td>\n",
       "      <td>0.508035</td>\n",
       "      <td>0.499941</td>\n",
       "      <td>0.00</td>\n",
       "      <td>0.0</td>\n",
       "      <td>1.00</td>\n",
       "      <td>1.00</td>\n",
       "      <td>1.00</td>\n",
       "    </tr>\n",
       "    <tr>\n",
       "      <th>AMCSTUBSTHEATRESMSOFFEROPTININDICATOR</th>\n",
       "      <td>47168.0</td>\n",
       "      <td>0.000042</td>\n",
       "      <td>0.006512</td>\n",
       "      <td>0.00</td>\n",
       "      <td>0.0</td>\n",
       "      <td>0.00</td>\n",
       "      <td>0.00</td>\n",
       "      <td>1.00</td>\n",
       "    </tr>\n",
       "    <tr>\n",
       "      <th>LIFETIMEAMCSTUBSAWARDSEARNEDAMOUNT</th>\n",
       "      <td>47168.0</td>\n",
       "      <td>4.877686</td>\n",
       "      <td>30.804161</td>\n",
       "      <td>0.00</td>\n",
       "      <td>0.0</td>\n",
       "      <td>0.00</td>\n",
       "      <td>0.00</td>\n",
       "      <td>804.00</td>\n",
       "    </tr>\n",
       "    <tr>\n",
       "      <th>LIFETIMEAMCSTUBSSPENDAMOUNT</th>\n",
       "      <td>47168.0</td>\n",
       "      <td>51.843208</td>\n",
       "      <td>293.911215</td>\n",
       "      <td>-91.39</td>\n",
       "      <td>0.0</td>\n",
       "      <td>2.94</td>\n",
       "      <td>9.20</td>\n",
       "      <td>7902.85</td>\n",
       "    </tr>\n",
       "    <tr>\n",
       "      <th>ONLINEFEESWAIVEDAMOUNT</th>\n",
       "      <td>47168.0</td>\n",
       "      <td>2.075994</td>\n",
       "      <td>24.918020</td>\n",
       "      <td>0.00</td>\n",
       "      <td>0.0</td>\n",
       "      <td>0.00</td>\n",
       "      <td>0.00</td>\n",
       "      <td>1815.00</td>\n",
       "    </tr>\n",
       "    <tr>\n",
       "      <th>ESTIMATEDINCOMERANGE</th>\n",
       "      <td>47168.0</td>\n",
       "      <td>1.046875</td>\n",
       "      <td>2.470250</td>\n",
       "      <td>0.00</td>\n",
       "      <td>0.0</td>\n",
       "      <td>0.00</td>\n",
       "      <td>0.00</td>\n",
       "      <td>9.00</td>\n",
       "    </tr>\n",
       "    <tr>\n",
       "      <th>ESTIMATEDHOMEMARKETVALUERANGE</th>\n",
       "      <td>47168.0</td>\n",
       "      <td>2.114760</td>\n",
       "      <td>4.641638</td>\n",
       "      <td>0.00</td>\n",
       "      <td>0.0</td>\n",
       "      <td>0.00</td>\n",
       "      <td>0.00</td>\n",
       "      <td>19.00</td>\n",
       "    </tr>\n",
       "    <tr>\n",
       "      <th>CHILDRENPRESENCE</th>\n",
       "      <td>47168.0</td>\n",
       "      <td>2.679083</td>\n",
       "      <td>0.810694</td>\n",
       "      <td>0.00</td>\n",
       "      <td>3.0</td>\n",
       "      <td>3.00</td>\n",
       "      <td>3.00</td>\n",
       "      <td>3.00</td>\n",
       "    </tr>\n",
       "    <tr>\n",
       "      <th>HASFREQUENTVISITTHEATRENUMBER</th>\n",
       "      <td>47168.0</td>\n",
       "      <td>0.343432</td>\n",
       "      <td>0.474859</td>\n",
       "      <td>0.00</td>\n",
       "      <td>0.0</td>\n",
       "      <td>0.00</td>\n",
       "      <td>1.00</td>\n",
       "      <td>1.00</td>\n",
       "    </tr>\n",
       "    <tr>\n",
       "      <th>TICKETQTYSUM</th>\n",
       "      <td>47168.0</td>\n",
       "      <td>2.282692</td>\n",
       "      <td>3.821639</td>\n",
       "      <td>0.00</td>\n",
       "      <td>0.0</td>\n",
       "      <td>1.00</td>\n",
       "      <td>3.00</td>\n",
       "      <td>68.00</td>\n",
       "    </tr>\n",
       "    <tr>\n",
       "      <th>TICKETBALANCEDUESUM</th>\n",
       "      <td>47168.0</td>\n",
       "      <td>22.919615</td>\n",
       "      <td>39.623308</td>\n",
       "      <td>0.00</td>\n",
       "      <td>0.0</td>\n",
       "      <td>7.98</td>\n",
       "      <td>30.78</td>\n",
       "      <td>969.09</td>\n",
       "    </tr>\n",
       "    <tr>\n",
       "      <th>CONCQTYSUM</th>\n",
       "      <td>47168.0</td>\n",
       "      <td>1.968262</td>\n",
       "      <td>4.255762</td>\n",
       "      <td>0.00</td>\n",
       "      <td>0.0</td>\n",
       "      <td>0.00</td>\n",
       "      <td>3.00</td>\n",
       "      <td>87.00</td>\n",
       "    </tr>\n",
       "    <tr>\n",
       "      <th>CONCLOYDISCOUNTAMTSUM</th>\n",
       "      <td>47168.0</td>\n",
       "      <td>-0.197280</td>\n",
       "      <td>1.015473</td>\n",
       "      <td>-17.68</td>\n",
       "      <td>0.0</td>\n",
       "      <td>0.00</td>\n",
       "      <td>0.00</td>\n",
       "      <td>0.00</td>\n",
       "    </tr>\n",
       "    <tr>\n",
       "      <th>CONCBALANCEDUESUM</th>\n",
       "      <td>47168.0</td>\n",
       "      <td>11.325645</td>\n",
       "      <td>23.843980</td>\n",
       "      <td>0.00</td>\n",
       "      <td>0.0</td>\n",
       "      <td>0.00</td>\n",
       "      <td>15.19</td>\n",
       "      <td>517.18</td>\n",
       "    </tr>\n",
       "  </tbody>\n",
       "</table>\n",
       "</div>"
      ],
      "text/plain": [
       "                                            count       mean         std  \\\n",
       "ISPREMIER                                 47168.0   0.115354    0.319452   \n",
       "AGE21PLUSINDICATOR                        47168.0   0.892660    0.309548   \n",
       "AGE18TO21INDICATOR                        47168.0   0.063920    0.244614   \n",
       "AGE13TO18INDICATOR                        47168.0   0.038543    0.192505   \n",
       "GENDERCODE                                47168.0   2.460778    1.081705   \n",
       "AMCSTUBSLOYALTYEMAILOFFEROPTININDICATOR   47168.0   0.816761    0.386866   \n",
       "AMCSTUBSREWARDSEMAILOPTININDICATOR        47168.0   0.859078    0.347945   \n",
       "AMCSTUBSREWARDSMOBILEOPTININDICATOR       47168.0   0.503053    0.499996   \n",
       "AMCSTUBSREWARDSSMSOPTININDICATOR          47168.0   0.000042    0.006512   \n",
       "AMCSTUBSTHEATREMOBILEOFFEROPTININDICATOR  47168.0   0.508035    0.499941   \n",
       "AMCSTUBSTHEATRESMSOFFEROPTININDICATOR     47168.0   0.000042    0.006512   \n",
       "LIFETIMEAMCSTUBSAWARDSEARNEDAMOUNT        47168.0   4.877686   30.804161   \n",
       "LIFETIMEAMCSTUBSSPENDAMOUNT               47168.0  51.843208  293.911215   \n",
       "ONLINEFEESWAIVEDAMOUNT                    47168.0   2.075994   24.918020   \n",
       "ESTIMATEDINCOMERANGE                      47168.0   1.046875    2.470250   \n",
       "ESTIMATEDHOMEMARKETVALUERANGE             47168.0   2.114760    4.641638   \n",
       "CHILDRENPRESENCE                          47168.0   2.679083    0.810694   \n",
       "HASFREQUENTVISITTHEATRENUMBER             47168.0   0.343432    0.474859   \n",
       "TICKETQTYSUM                              47168.0   2.282692    3.821639   \n",
       "TICKETBALANCEDUESUM                       47168.0  22.919615   39.623308   \n",
       "CONCQTYSUM                                47168.0   1.968262    4.255762   \n",
       "CONCLOYDISCOUNTAMTSUM                     47168.0  -0.197280    1.015473   \n",
       "CONCBALANCEDUESUM                         47168.0  11.325645   23.843980   \n",
       "\n",
       "                                            min  25%   50%    75%      max  \n",
       "ISPREMIER                                  0.00  0.0  0.00   0.00     1.00  \n",
       "AGE21PLUSINDICATOR                         0.00  1.0  1.00   1.00     1.00  \n",
       "AGE18TO21INDICATOR                         0.00  0.0  0.00   0.00     1.00  \n",
       "AGE13TO18INDICATOR                         0.00  0.0  0.00   0.00     1.00  \n",
       "GENDERCODE                                 0.00  3.0  3.00   3.00     3.00  \n",
       "AMCSTUBSLOYALTYEMAILOFFEROPTININDICATOR    0.00  1.0  1.00   1.00     1.00  \n",
       "AMCSTUBSREWARDSEMAILOPTININDICATOR         0.00  1.0  1.00   1.00     1.00  \n",
       "AMCSTUBSREWARDSMOBILEOPTININDICATOR        0.00  0.0  1.00   1.00     1.00  \n",
       "AMCSTUBSREWARDSSMSOPTININDICATOR           0.00  0.0  0.00   0.00     1.00  \n",
       "AMCSTUBSTHEATREMOBILEOFFEROPTININDICATOR   0.00  0.0  1.00   1.00     1.00  \n",
       "AMCSTUBSTHEATRESMSOFFEROPTININDICATOR      0.00  0.0  0.00   0.00     1.00  \n",
       "LIFETIMEAMCSTUBSAWARDSEARNEDAMOUNT         0.00  0.0  0.00   0.00   804.00  \n",
       "LIFETIMEAMCSTUBSSPENDAMOUNT              -91.39  0.0  2.94   9.20  7902.85  \n",
       "ONLINEFEESWAIVEDAMOUNT                     0.00  0.0  0.00   0.00  1815.00  \n",
       "ESTIMATEDINCOMERANGE                       0.00  0.0  0.00   0.00     9.00  \n",
       "ESTIMATEDHOMEMARKETVALUERANGE              0.00  0.0  0.00   0.00    19.00  \n",
       "CHILDRENPRESENCE                           0.00  3.0  3.00   3.00     3.00  \n",
       "HASFREQUENTVISITTHEATRENUMBER              0.00  0.0  0.00   1.00     1.00  \n",
       "TICKETQTYSUM                               0.00  0.0  1.00   3.00    68.00  \n",
       "TICKETBALANCEDUESUM                        0.00  0.0  7.98  30.78   969.09  \n",
       "CONCQTYSUM                                 0.00  0.0  0.00   3.00    87.00  \n",
       "CONCLOYDISCOUNTAMTSUM                    -17.68  0.0  0.00   0.00     0.00  \n",
       "CONCBALANCEDUESUM                          0.00  0.0  0.00  15.19   517.18  "
      ]
     },
     "execution_count": 4,
     "metadata": {},
     "output_type": "execute_result"
    }
   ],
   "source": [
    "amc.describe().transpose()"
   ]
  },
  {
   "cell_type": "code",
   "execution_count": 5,
   "metadata": {
    "collapsed": false
   },
   "outputs": [
    {
     "data": {
      "text/plain": [
       "(47168, 23)"
      ]
     },
     "execution_count": 5,
     "metadata": {},
     "output_type": "execute_result"
    }
   ],
   "source": [
    "amc.shape"
   ]
  },
  {
   "cell_type": "code",
   "execution_count": 6,
   "metadata": {
    "collapsed": true
   },
   "outputs": [],
   "source": [
    "y = amc['ISPREMIER'] \n",
    "X = amc.drop(['ISPREMIER'], axis =1)"
   ]
  },
  {
   "cell_type": "code",
   "execution_count": 7,
   "metadata": {
    "collapsed": true
   },
   "outputs": [],
   "source": [
    "X_train, X_test, y_train, y_test = train_test_split(X, y)"
   ]
  },
  {
   "cell_type": "code",
   "execution_count": 8,
   "metadata": {
    "collapsed": true
   },
   "outputs": [],
   "source": [
    "from sklearn.preprocessing import StandardScaler"
   ]
  },
  {
   "cell_type": "code",
   "execution_count": 9,
   "metadata": {
    "collapsed": true
   },
   "outputs": [],
   "source": [
    "scaler = StandardScaler()"
   ]
  },
  {
   "cell_type": "code",
   "execution_count": 10,
   "metadata": {
    "collapsed": false
   },
   "outputs": [
    {
     "data": {
      "text/plain": [
       "StandardScaler(copy=True, with_mean=True, with_std=True)"
      ]
     },
     "execution_count": 10,
     "metadata": {},
     "output_type": "execute_result"
    }
   ],
   "source": [
    "# Fit only to the training data\n",
    "scaler.fit(X_train)"
   ]
  },
  {
   "cell_type": "code",
   "execution_count": 11,
   "metadata": {
    "collapsed": false
   },
   "outputs": [],
   "source": [
    "# Now apply the transformations to the data:\n",
    "X_train = scaler.transform(X_train)\n",
    "X_test = scaler.transform(X_test)"
   ]
  },
  {
   "cell_type": "code",
   "execution_count": 12,
   "metadata": {
    "collapsed": false
   },
   "outputs": [
    {
     "data": {
      "text/plain": [
       "sklearn.neural_network.rbm.BernoulliRBM"
      ]
     },
     "execution_count": 12,
     "metadata": {},
     "output_type": "execute_result"
    }
   ],
   "source": [
    "# confirming version \n",
    "from sklearn import neural_network\n",
    "getattr(neural_network, \"MLPCLassifier\", None)\n",
    "getattr(neural_network, \"BernoulliRBM\", None)"
   ]
  },
  {
   "cell_type": "code",
   "execution_count": 13,
   "metadata": {
    "collapsed": false
   },
   "outputs": [],
   "source": [
    "from sklearn.neural_network import MLPClassifier"
   ]
  },
  {
   "cell_type": "code",
   "execution_count": 14,
   "metadata": {
    "collapsed": false
   },
   "outputs": [],
   "source": [
    "mlp = MLPClassifier(hidden_layer_sizes=(13,13,13),max_iter=500)"
   ]
  },
  {
   "cell_type": "code",
   "execution_count": 15,
   "metadata": {
    "collapsed": false
   },
   "outputs": [
    {
     "data": {
      "text/plain": [
       "MLPClassifier(activation='relu', alpha=0.0001, batch_size='auto', beta_1=0.9,\n",
       "       beta_2=0.999, early_stopping=False, epsilon=1e-08,\n",
       "       hidden_layer_sizes=(13, 13, 13), learning_rate='constant',\n",
       "       learning_rate_init=0.001, max_iter=500, momentum=0.9,\n",
       "       nesterovs_momentum=True, power_t=0.5, random_state=None,\n",
       "       shuffle=True, solver='adam', tol=0.0001, validation_fraction=0.1,\n",
       "       verbose=False, warm_start=False)"
      ]
     },
     "execution_count": 15,
     "metadata": {},
     "output_type": "execute_result"
    }
   ],
   "source": [
    "mlp.fit(X_train,y_train)"
   ]
  },
  {
   "cell_type": "code",
   "execution_count": 16,
   "metadata": {
    "collapsed": true
   },
   "outputs": [],
   "source": [
    "predictions = mlp.predict(X_test)"
   ]
  },
  {
   "cell_type": "code",
   "execution_count": 17,
   "metadata": {
    "collapsed": true
   },
   "outputs": [],
   "source": [
    "from sklearn.metrics import classification_report,confusion_matrix"
   ]
  },
  {
   "cell_type": "code",
   "execution_count": 18,
   "metadata": {
    "collapsed": false
   },
   "outputs": [
    {
     "name": "stdout",
     "output_type": "stream",
     "text": [
      "[[10228   163]\n",
      " [  271  1130]]\n"
     ]
    }
   ],
   "source": [
    "print(confusion_matrix(y_test,predictions))"
   ]
  },
  {
   "cell_type": "code",
   "execution_count": 19,
   "metadata": {
    "collapsed": false
   },
   "outputs": [
    {
     "name": "stdout",
     "output_type": "stream",
     "text": [
      "             precision    recall  f1-score   support\n",
      "\n",
      "          0       0.97      0.98      0.98     10391\n",
      "          1       0.87      0.81      0.84      1401\n",
      "\n",
      "avg / total       0.96      0.96      0.96     11792\n",
      "\n"
     ]
    }
   ],
   "source": [
    "print(classification_report(y_test,predictions))"
   ]
  },
  {
   "cell_type": "markdown",
   "metadata": {},
   "source": [
    "### Interpretation\n",
    "There is an accuracy of **96%**. \n",
    "- TPR = (true positives/total positives) = 1130/1401 = 0.81\n",
    "- FPR = (false positives/total negatives) = 10228/10391 = 0.98 "
   ]
  },
  {
   "cell_type": "code",
   "execution_count": 20,
   "metadata": {
    "collapsed": false
   },
   "outputs": [
    {
     "data": {
      "text/plain": [
       "4"
      ]
     },
     "execution_count": 20,
     "metadata": {},
     "output_type": "execute_result"
    }
   ],
   "source": [
    "len(mlp.coefs_)"
   ]
  },
  {
   "cell_type": "code",
   "execution_count": 21,
   "metadata": {
    "collapsed": false
   },
   "outputs": [
    {
     "data": {
      "text/plain": [
       "22"
      ]
     },
     "execution_count": 21,
     "metadata": {},
     "output_type": "execute_result"
    }
   ],
   "source": [
    "len(mlp.coefs_[0])"
   ]
  },
  {
   "cell_type": "code",
   "execution_count": 22,
   "metadata": {
    "collapsed": false
   },
   "outputs": [
    {
     "data": {
      "text/plain": [
       "13"
      ]
     },
     "execution_count": 22,
     "metadata": {},
     "output_type": "execute_result"
    }
   ],
   "source": [
    "len(mlp.intercepts_[0])"
   ]
  },
  {
   "cell_type": "code",
   "execution_count": null,
   "metadata": {
    "collapsed": true
   },
   "outputs": [],
   "source": []
  }
 ],
 "metadata": {
  "anaconda-cloud": {},
  "kernelspec": {
   "display_name": "Python [conda root]",
   "language": "python",
   "name": "conda-root-py"
  },
  "language_info": {
   "codemirror_mode": {
    "name": "ipython",
    "version": 2
   },
   "file_extension": ".py",
   "mimetype": "text/x-python",
   "name": "python",
   "nbconvert_exporter": "python",
   "pygments_lexer": "ipython2",
   "version": "2.7.12"
  }
 },
 "nbformat": 4,
 "nbformat_minor": 1
}
